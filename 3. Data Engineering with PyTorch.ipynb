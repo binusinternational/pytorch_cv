{
 "cells": [
  {
   "cell_type": "code",
   "execution_count": 1,
   "id": "fossil-bumper",
   "metadata": {},
   "outputs": [],
   "source": [
    "%config Completer.use_jedi = False # in case your autocomplete does not work"
   ]
  },
  {
   "cell_type": "markdown",
   "id": "identified-linux",
   "metadata": {},
   "source": [
    "Before we move on to the image classification, let's play around with a dataset of images. Specifically, we are going to play around with DataLoader and transformation."
   ]
  },
  {
   "cell_type": "markdown",
   "id": "graduate-coordinate",
   "metadata": {},
   "source": [
    "# Download"
   ]
  },
  {
   "cell_type": "markdown",
   "id": "falling-fight",
   "metadata": {},
   "source": [
    "We are going to use MNIST (http://yann.lecun.com/exdb/mnist/). I just want make sure that you have played around with MNIST dataset before.\n",
    "\n",
    "Let's use torchvision to save time as it checks if the dataset has been downloaded and also check the md5 sum (integration check). "
   ]
  },
  {
   "cell_type": "code",
   "execution_count": 2,
   "id": "pleasant-distinction",
   "metadata": {},
   "outputs": [],
   "source": [
    "from torchvision import datasets\n",
    "\n",
    "training_set = datasets.MNIST(root='./',download=True,train=True)\n",
    "test_set = datasets.MNIST(root='./',download=True,train=False)"
   ]
  },
  {
   "cell_type": "markdown",
   "id": "wound-attention",
   "metadata": {},
   "source": [
    "Let's see what we just downloaded!"
   ]
  },
  {
   "cell_type": "code",
   "execution_count": 3,
   "id": "complete-bride",
   "metadata": {},
   "outputs": [
    {
     "name": "stdout",
     "output_type": "stream",
     "text": [
      "\u001b[01;34mMNIST\u001b[00m\r\n",
      "├── \u001b[01;34mprocessed\u001b[00m\r\n",
      "│   ├── test.pt\r\n",
      "│   └── training.pt\r\n",
      "└── \u001b[01;34mraw\u001b[00m\r\n",
      "    ├── t10k-images-idx3-ubyte\r\n",
      "    ├── \u001b[01;31mt10k-images-idx3-ubyte.gz\u001b[00m\r\n",
      "    ├── t10k-labels-idx1-ubyte\r\n",
      "    ├── \u001b[01;31mt10k-labels-idx1-ubyte.gz\u001b[00m\r\n",
      "    ├── train-images-idx3-ubyte\r\n",
      "    ├── \u001b[01;31mtrain-images-idx3-ubyte.gz\u001b[00m\r\n",
      "    ├── train-labels-idx1-ubyte\r\n",
      "    └── \u001b[01;31mtrain-labels-idx1-ubyte.gz\u001b[00m\r\n",
      "\r\n",
      "2 directories, 10 files\r\n"
     ]
    }
   ],
   "source": [
    "! tree MNIST"
   ]
  },
  {
   "cell_type": "markdown",
   "id": "spanish-appointment",
   "metadata": {},
   "source": [
    "If this is your first time playing around with MNIST, don't be shocked that you won't see familiar extensions, such as .jpg, .png, etc. In fact, after you extract the gz files, you''ll still serialized files. In the website, it is also mentioned that you need a custom script. Torchvision provides us with the processed folder when we can see the image data."
   ]
  },
  {
   "cell_type": "code",
   "execution_count": 4,
   "id": "applicable-council",
   "metadata": {},
   "outputs": [
    {
     "name": "stdout",
     "output_type": "stream",
     "text": [
      "type training: <class 'tuple'>\n",
      "(28, 28)\n"
     ]
    },
    {
     "data": {
      "text/plain": [
       "<matplotlib.image.AxesImage at 0x7f8915998760>"
      ]
     },
     "execution_count": 4,
     "metadata": {},
     "output_type": "execute_result"
    },
    {
     "data": {
      "image/png": "[encoded data removed]",
      "text/plain": [
       "<Figure size 432x288 with 1 Axes>"
      ]
     },
     "metadata": {
      "needs_background": "light"
     },
     "output_type": "display_data"
    }
   ],
   "source": [
    "import torch\n",
    "import numpy as np\n",
    "import matplotlib.pyplot as plt\n",
    "\n",
    "training = torch.load('./MNIST/processed/training.pt')\n",
    "print('type training:', type(training))\n",
    "\n",
    "idx_image = 1 # the first image\n",
    "sample = training[0][idx_image-1].numpy()\n",
    "\n",
    "print(sample.shape)\n",
    "plt.imshow(sample)"
   ]
  },
  {
   "cell_type": "markdown",
   "id": "chinese-purpose",
   "metadata": {},
   "source": [
    "Hmmm....it is not gray scale (in case you are wondering why it does not look like a typical image  as you have seen in other tutorials that use MNIST). "
   ]
  },
  {
   "cell_type": "code",
   "execution_count": 5,
   "id": "proper-miami",
   "metadata": {},
   "outputs": [
    {
     "data": {
      "image/png": "[encoded data removed]",
      "text/plain": [
       "<Figure size 432x288 with 1 Axes>"
      ]
     },
     "metadata": {
      "needs_background": "light"
     },
     "output_type": "display_data"
    }
   ],
   "source": [
    "plt.hist(sample, bins='auto');"
   ]
  },
  {
   "cell_type": "markdown",
   "id": "fluid-guarantee",
   "metadata": {},
   "source": [
    "The histogram plot shows that the range of the values of the image is from 0 to 255.\n",
    "\n",
    "By the way, you can do trial-and-error yourself, but eventually you might end up having a conclusion that the data structure needs to be a tensor (a 3D matrix), where: \n",
    "- the first dimension represents the row pixels, \n",
    "- the second dimension represents the column pixels, and\n",
    "- the third dimension represent channels, e.g., red, blue, or green channels.\n",
    "\n",
    "Long story short, let's transform into a 3D matrix having the pixel values from 0 to 1."
   ]
  },
  {
   "cell_type": "code",
   "execution_count": 6,
   "id": "elementary-yorkshire",
   "metadata": {},
   "outputs": [
    {
     "data": {
      "text/plain": [
       "<matplotlib.image.AxesImage at 0x7f89154ce310>"
      ]
     },
     "execution_count": 6,
     "metadata": {},
     "output_type": "execute_result"
    },
    {
     "data": {
      "image/png": "[encoded data removed]",
      "text/plain": [
       "<Figure size 432x288 with 1 Axes>"
      ]
     },
     "metadata": {
      "needs_background": "light"
     },
     "output_type": "display_data"
    }
   ],
   "source": [
    "# Scale it to 0 to 1\n",
    "sample_transformed = sample/sample.max()\n",
    "\n",
    "# Transform it into a 3D matrix\n",
    "# recall that 3*[1,2,3] = [1,2,3,1,2,3]\n",
    "sample_transformed = np.array(3*[sample_transformed]) # but the shape is still (3,28,28)\n",
    "sample_transformed = sample_transformed.transpose(1,2,0) # rearrange such that the zeroth index becomes the third and so on so forth\n",
    "\n",
    "plt.imshow(sample_transformed)"
   ]
  },
  {
   "cell_type": "code",
   "execution_count": 7,
   "id": "pointed-massachusetts",
   "metadata": {},
   "outputs": [
    {
     "data": {
      "text/plain": [
       "<matplotlib.image.AxesImage at 0x7f89154987f0>"
      ]
     },
     "execution_count": 7,
     "metadata": {},
     "output_type": "execute_result"
    },
    {
     "data": {
      "image/png": "[encoded data removed]",
      "text/plain": [
       "<Figure size 432x288 with 1 Axes>"
      ]
     },
     "metadata": {
      "needs_background": "light"
     },
     "output_type": "display_data"
    }
   ],
   "source": [
    "# Or using cmap from imshow. Too much hassle for this! \n",
    "# The point is that you'll notice that the data structure of images in numpy is [H,W,C],\n",
    "# where H is height, W is width, and C is channel.\n",
    "# Meanwhile in pytorch, they use [C,H,W]\n",
    "\n",
    "# One more thing! With imshow, you need a proper [H,W,3] to draw a gray image\n",
    "\n",
    "plt.imshow(sample,cmap='gray')"
   ]
  },
  {
   "cell_type": "markdown",
   "id": "verified-tonight",
   "metadata": {},
   "source": [
    "# DataLoader"
   ]
  },
  {
   "cell_type": "markdown",
   "id": "experimental-potential",
   "metadata": {},
   "source": [
    "DataLoader is one of PyTorch ways to do 'feature engineering'.\n",
    "\n",
    "The idea with the DataLoader is that we want to load batch data relatively easily. In deep learning, a batch data (consisting of a set of images) will be loaded at each iteration within an epoch."
   ]
  },
  {
   "cell_type": "code",
   "execution_count": 8,
   "id": "prescribed-tooth",
   "metadata": {},
   "outputs": [],
   "source": [
    "import torch\n",
    "import torchvision\n",
    "import torchvision.transforms as transforms\n",
    "\n",
    "training_set = datasets.MNIST(root='./',download=True,train=True,\n",
    "                             transform=transforms.ToTensor()\n",
    "                             )\n",
    "\n",
    "training_loader = torch.utils.data.DataLoader(\n",
    "    dataset=training_set, \n",
    "    batch_size=4,\n",
    ")\n",
    "# Note that dataset must be either map-style or iterable-style\n",
    "# find more information on https://pytorch.org/docs/stable/data.html\n",
    "# For example, iterable-style is the one you can do 'for i in something:' :D\n",
    "# We'll discuss how to create our own custom dataset later\n",
    "\n",
    "\n"
   ]
  },
  {
   "cell_type": "code",
   "execution_count": 9,
   "id": "identified-israeli",
   "metadata": {},
   "outputs": [
    {
     "data": {
      "text/plain": [
       "4"
      ]
     },
     "execution_count": 9,
     "metadata": {},
     "output_type": "execute_result"
    }
   ],
   "source": [
    "training_set_iter = iter(training_loader)\n",
    "batch = training_set_iter.next() # this loads the first batch\n",
    "len(batch[0])"
   ]
  },
  {
   "cell_type": "markdown",
   "id": "equivalent-truck",
   "metadata": {},
   "source": [
    "You should see the batch size that we set before."
   ]
  },
  {
   "cell_type": "code",
   "execution_count": 10,
   "id": "interior-distributor",
   "metadata": {},
   "outputs": [
    {
     "data": {
      "image/png": "[encoded data removed]",
      "text/plain": [
       "<Figure size 864x1152 with 4 Axes>"
      ]
     },
     "metadata": {
      "needs_background": "light"
     },
     "output_type": "display_data"
    }
   ],
   "source": [
    "plt.figure(figsize=(12,16))\n",
    "\n",
    "for i in range(len(batch[0])):\n",
    "    image = batch[0][i].numpy().transpose(1,2,0)\n",
    "    plt.subplot(1,len(batch[0]),i+1)\n",
    "    plt.imshow(image, cmap='gray')\n",
    "    plt.title(['label: ',batch[1][i].numpy()])\n",
    "    plt.tight_layout()\n",
    "    \n"
   ]
  },
  {
   "cell_type": "markdown",
   "id": "eligible-fifth",
   "metadata": {},
   "source": [
    "Later you can load the training set as well as its label per batch "
   ]
  },
  {
   "cell_type": "markdown",
   "id": "occasional-japan",
   "metadata": {},
   "source": [
    "# Custom Dataset"
   ]
  },
  {
   "cell_type": "markdown",
   "id": "respected-prediction",
   "metadata": {},
   "source": [
    "Let's create our own dataset. First, download a dataset of png files, for example, from http://www.ee.surrey.ac.uk/CVSSP/demos/chars74k/\n",
    "\n",
    "Specifically, we'll use http://www.ee.surrey.ac.uk/CVSSP/demos/chars74k/EnglishHnd.tgz\n",
    "\n",
    "You can write your script and refer to torchvision sources directly. There, you can learn how they download, extract, and transform it.\n",
    "\n",
    "However, in case you do it manually. The following is the bash script that I use.\n",
    "\n",
    "```sh\n",
    "wget http://www.ee.surrey.ac.uk/CVSSP/demos/chars74k/EnglishHnd.tgz\n",
    "tar -xvf EnglishHnd.tgz English/Hnd/Img/Sample001/\n",
    "mkdir CUSTOM_DATASET\n",
    "find English/ -iname '*.png' -exec mv '{}' CUSTOM_DATASET/ \\;\n",
    "rm -rf English\n",
    "```"
   ]
  },
  {
   "cell_type": "code",
   "execution_count": 11,
   "id": "2120da6b",
   "metadata": {},
   "outputs": [],
   "source": [
    "#!bash ./download_EnglishHnd.sh # you can uncomment this to download and extract it"
   ]
  },
  {
   "cell_type": "markdown",
   "id": "direct-preliminary",
   "metadata": {},
   "source": [
    "By the way, the md5sum of the tar file is 95e9ee6d929809ef4c2f509f86388c72 "
   ]
  },
  {
   "cell_type": "markdown",
   "id": "concerned-broad",
   "metadata": {},
   "source": [
    "Let's define our own custom dataset class with \\__len__ and \\__getitem__ methods. For the getitem method, we'll return a sample of an image in numpy format.  "
   ]
  },
  {
   "cell_type": "code",
   "execution_count": 12,
   "id": "greek-taiwan",
   "metadata": {},
   "outputs": [],
   "source": [
    "import torch\n",
    "from torch.utils.data import Dataset\n",
    "\n",
    "import os\n",
    "from skimage import io, transform\n",
    "from skimage.color import rgb2gray\n",
    "\n",
    "class CustomDataset(Dataset):\n",
    "    \n",
    "    def __init__(self,transform=None):\n",
    "        self.list_image_name = os.listdir('CUSTOM_DATASET')\n",
    "        self.transform = transform\n",
    "        \n",
    "    def __len__(self):\n",
    "        return len(self.list_image_name)\n",
    "    \n",
    "    def __getitem__(self,idx):\n",
    "        if torch.is_tensor(idx):\n",
    "            idx = idx.tolist()\n",
    "        \n",
    "        \n",
    "        path = os.path.join('./CUSTOM_DATASET/',dataset.list_image_name[idx])\n",
    "        image = io.imread(path)\n",
    "        sample = {'image':image}\n",
    "        \n",
    "        if self.transform:\n",
    "            sample = self.transform(sample)\n",
    "        \n",
    "        return sample"
   ]
  },
  {
   "cell_type": "markdown",
   "id": "fabulous-commonwealth",
   "metadata": {},
   "source": [
    "Let's plot them!"
   ]
  },
  {
   "cell_type": "code",
   "execution_count": 13,
   "id": "solved-planning",
   "metadata": {},
   "outputs": [
    {
     "data": {
      "image/png": "[encoded data removed]",
      "text/plain": [
       "<Figure size 432x288 with 3 Axes>"
      ]
     },
     "metadata": {
      "needs_background": "light"
     },
     "output_type": "display_data"
    }
   ],
   "source": [
    "dataset = CustomDataset()\n",
    "\n",
    "# I think 3 is sufficient\n",
    "for i in range(3):\n",
    "    \n",
    "    img = dataset[i]['image']\n",
    "    plt.subplot(1,3,i+1)\n",
    "    plt.imshow(img)\n",
    "    plt.tight_layout()\n",
    "\n"
   ]
  },
  {
   "cell_type": "markdown",
   "id": "valuable-infrastructure",
   "metadata": {},
   "source": [
    "This definitely needs to be preprocessed before feeding it to our  model later. Why? Size is not the same (we need 28x28 for MNIST, i.e., the input layer size is 784). The color is also reversed (with MNIST we have a black background). "
   ]
  },
  {
   "cell_type": "code",
   "execution_count": 14,
   "id": "varied-mongolia",
   "metadata": {},
   "outputs": [],
   "source": [
    "class ToGray(object):\n",
    "    \"\"\"\n",
    "    Example:\n",
    "    tg = ToGray()\n",
    "    tg(dataset[0])\n",
    "    \"\"\"\n",
    "    \n",
    "    def __call__(self,sample):\n",
    "        image = sample['image']\n",
    "        \n",
    "        return {'image':1-rgb2gray(image)} # 1 - to invert\n",
    "    \n",
    "class Rescale(object):\n",
    "    \"\"\"\n",
    "    see https://pytorch.org/tutorials/beginner/data_loading_tutorial.html\n",
    "    \n",
    "    \"\"\"\n",
    "    \n",
    "    def __init__(self, output_size):\n",
    "        assert isinstance(output_size, (int, tuple))\n",
    "        self.output_size = output_size\n",
    "\n",
    "    def __call__(self, sample):\n",
    "        image = sample['image']\n",
    "        \n",
    "        h, w = image.shape[:2]\n",
    "        if isinstance(self.output_size, int):\n",
    "            if h > w:\n",
    "                new_h, new_w = self.output_size * h / w, self.output_size\n",
    "            else:\n",
    "                new_h, new_w = self.output_size, self.output_size * w / h\n",
    "        else:\n",
    "            new_h, new_w = self.output_size\n",
    "\n",
    "        new_h, new_w = int(new_h), int(new_w)\n",
    "\n",
    "        img = transform.resize(image, (new_h, new_w))\n",
    "\n",
    "        return {'image': img}"
   ]
  },
  {
   "cell_type": "markdown",
   "id": "religious-vacuum",
   "metadata": {},
   "source": [
    "This is how you test it."
   ]
  },
  {
   "cell_type": "code",
   "execution_count": 15,
   "id": "ordered-craft",
   "metadata": {},
   "outputs": [
    {
     "data": {
      "text/plain": [
       "<matplotlib.image.AxesImage at 0x7f891581c160>"
      ]
     },
     "execution_count": 15,
     "metadata": {},
     "output_type": "execute_result"
    },
    {
     "data": {
      "image/png": "[encoded data removed]",
      "text/plain": [
       "<Figure size 432x288 with 1 Axes>"
      ]
     },
     "metadata": {
      "needs_background": "light"
     },
     "output_type": "display_data"
    }
   ],
   "source": [
    "dataset = CustomDataset(\n",
    "    transform=transforms.Compose([ToGray(),Rescale((28,28))])\n",
    ")\n",
    "\n",
    "plt.imshow(dataset[0]['image'],cmap='gray')\n"
   ]
  },
  {
   "cell_type": "markdown",
   "id": "located-arthur",
   "metadata": {},
   "source": [
    "Now we can set a loader."
   ]
  },
  {
   "cell_type": "code",
   "execution_count": 16,
   "id": "advised-mainland",
   "metadata": {},
   "outputs": [
    {
     "name": "stdout",
     "output_type": "stream",
     "text": [
      "batch size: torch.Size([5, 28, 28])\n"
     ]
    }
   ],
   "source": [
    "batch_size = 5\n",
    "\n",
    "dataset_loader = torch.utils.data.DataLoader(\n",
    "    dataset=dataset, \n",
    "    batch_size=batch_size,\n",
    ")\n",
    "\n",
    "dataset_iter = iter(dataset_loader)\n",
    "batch = dataset_iter.next() # this loads the first batch\n",
    "\n",
    "print('batch size:',batch['image'].size())"
   ]
  },
  {
   "cell_type": "code",
   "execution_count": 17,
   "id": "tutorial-domestic",
   "metadata": {},
   "outputs": [
    {
     "data": {
      "application/vnd.jupyter.widget-view+json": {
       "model_id": "8bcdaf345ed541eba63ad9022d612560",
       "version_major": 2,
       "version_minor": 0
      },
      "text/plain": [
       "0it [00:00, ?it/s]"
      ]
     },
     "metadata": {},
     "output_type": "display_data"
    },
    {
     "name": "stderr",
     "output_type": "stream",
     "text": [
      "/tmp/ipykernel_109833/721721451.py:8: MatplotlibDeprecationWarning: Passing non-integers as three-element position specification is deprecated since 3.3 and will be removed two minor releases later.\n",
      "  plt.subplot(len(dataset)/batch_size,batch_size,batch_size*i+idx+1)\n"
     ]
    },
    {
     "data": {
      "image/png": "[encoded data removed]",
      "text/plain": [
       "<Figure size 720x576 with 55 Axes>"
      ]
     },
     "metadata": {
      "needs_background": "light"
     },
     "output_type": "display_data"
    }
   ],
   "source": [
    "from tqdm.notebook import tqdm\n",
    "\n",
    "plt.figure(figsize=(10, 8))\n",
    "\n",
    "for i,batch in tqdm(enumerate(dataset_loader)):\n",
    "    \n",
    "    for idx in range(batch_size):\n",
    "        plt.subplot(len(dataset)/batch_size,batch_size,batch_size*i+idx+1)\n",
    "        plt.imshow(batch['image'][idx].numpy(),cmap='gray')\n",
    "\n",
    "plt.tight_layout()"
   ]
  },
  {
   "cell_type": "markdown",
   "id": "framed-malta",
   "metadata": {},
   "source": [
    "That's great. That should be enough about the feature engineering. You can explore yourself, esplecially with scikit-image library as you can find many different types of augmentations or transformations.\n",
    "\n",
    "Now, let's return back to deep learning topic. In the next article, we are gonna use Deep NN to do the digit classification with MNIST dataset. "
   ]
  },
  {
   "cell_type": "code",
   "execution_count": null,
   "id": "sunrise-client",
   "metadata": {},
   "outputs": [],
   "source": []
  }
 ],
 "metadata": {
  "kernelspec": {
   "display_name": "Python 3 (ipykernel)",
   "language": "python",
   "name": "python3"
  },
  "language_info": {
   "codemirror_mode": {
    "name": "ipython",
    "version": 3
   },
   "file_extension": ".py",
   "mimetype": "text/x-python",
   "name": "python",
   "nbconvert_exporter": "python",
   "pygments_lexer": "ipython3",
   "version": "3.8.0"
  }
 },
 "nbformat": 4,
 "nbformat_minor": 5
}
