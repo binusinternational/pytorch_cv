{
 "cells": [
  {
   "cell_type": "code",
   "execution_count": 1,
   "id": "swedish-strain",
   "metadata": {},
   "outputs": [],
   "source": [
    "%config Completer.use_jedi = False # in case your autocomplete does not work"
   ]
  },
  {
   "cell_type": "markdown",
   "id": "advisory-girlfriend",
   "metadata": {},
   "source": [
    "I mentioned about logging in the previous article, but we only displayed it in the Tensorboard.\n",
    "Now, can we pick up what we have left previously? Why not?"
   ]
  },
  {
   "cell_type": "markdown",
   "id": "dense-gender",
   "metadata": {},
   "source": [
    "# Checkpoint loading"
   ]
  },
  {
   "cell_type": "markdown",
   "id": "seeing-costa",
   "metadata": {},
   "source": [
    "The checkpoints are stored in:"
   ]
  },
  {
   "cell_type": "code",
   "execution_count": 2,
   "id": "aging-personality",
   "metadata": {},
   "outputs": [
    {
     "name": "stdout",
     "output_type": "stream",
     "text": [
      "\u001b[01;34mlightning_logs/\u001b[00m\r\n",
      "├── \u001b[01;34mversion_0\u001b[00m\r\n",
      "│   ├── \u001b[01;34mcheckpoints\u001b[00m\r\n",
      "│   │   └── epoch=9-step=5500.ckpt\r\n",
      "│   ├── events.out.tfevents.1654332948.ubuntu-OMEN.110229.0\r\n",
      "│   ├── events.out.tfevents.1654332989.ubuntu-OMEN.110229.1\r\n",
      "│   └── hparams.yaml\r\n",
      "├── \u001b[01;34mversion_1\u001b[00m\r\n",
      "│   ├── \u001b[01;34mcheckpoints\u001b[00m\r\n",
      "│   │   └── epoch=9-step=5500.ckpt\r\n",
      "│   ├── events.out.tfevents.1654332995.ubuntu-OMEN.110229.2\r\n",
      "│   ├── events.out.tfevents.1654333035.ubuntu-OMEN.110229.3\r\n",
      "│   └── hparams.yaml\r\n",
      "├── \u001b[01;34mversion_2\u001b[00m\r\n",
      "│   ├── \u001b[01;34mcheckpoints\u001b[00m\r\n",
      "│   │   └── epoch=9-step=5500.ckpt\r\n",
      "│   ├── events.out.tfevents.1654333539.ubuntu-OMEN.115365.0\r\n",
      "│   ├── events.out.tfevents.1654333578.ubuntu-OMEN.115365.1\r\n",
      "│   └── hparams.yaml\r\n",
      "└── \u001b[01;34mversion_3\u001b[00m\r\n",
      "    ├── \u001b[01;34mcheckpoints\u001b[00m\r\n",
      "    │   └── epoch=9-step=5500.ckpt\r\n",
      "    ├── events.out.tfevents.1654333584.ubuntu-OMEN.115365.2\r\n",
      "    ├── events.out.tfevents.1654333632.ubuntu-OMEN.115365.3\r\n",
      "    └── hparams.yaml\r\n",
      "\r\n",
      "8 directories, 16 files\r\n"
     ]
    }
   ],
   "source": [
    "! tree lightning_logs/"
   ]
  },
  {
   "cell_type": "code",
   "execution_count": 3,
   "id": "impressed-thread",
   "metadata": {},
   "outputs": [],
   "source": [
    "# 1. Import\n",
    "\n",
    "import numpy as np\n",
    "import matplotlib.pyplot as plt\n",
    "import torch\n",
    "import torch.nn as nn\n",
    "import pytorch_lightning as pl # --> NEW\n",
    "from torchvision import datasets, transforms\n",
    "from torchmetrics.functional import accuracy\n",
    "# from pytorch_lightning.metrics.functional import accuracy # --> This is NEW\n",
    "from torch.utils.data import DataLoader, random_split # random_split is NEW\n",
    "\n",
    "import sps # from https://github.com/IssamLaradji/sps --> a new optimizer\n",
    "\n",
    "# 2. Copy the model here\n",
    "\n",
    "class FNN(pl.LightningModule):\n",
    "    \n",
    "    def __init__(self, input_size, num_neurons_hidden1,  num_neurons_hidden2, output_size, optimizer='adam'):\n",
    "        # Copy paste from the previous article\n",
    "        super().__init__()\n",
    "        self.input_layer = nn.Linear(input_size,num_neurons_hidden1)\n",
    "        self.hidden_layer1 = nn.Linear(num_neurons_hidden1,num_neurons_hidden2)\n",
    "        self.output_layer = nn.Linear(num_neurons_hidden2,output_size)\n",
    "        \n",
    "        tf_resize = transforms.Resize((28,28)) # make sure that all loaded images have these dimensions\n",
    "        tf_totensor = transforms.ToTensor() # Why? pytorch uses this datatype\n",
    "        tf_normalize = transforms.Normalize(mean=(.5,),std=(.5,)) # this is rather tricky to explain. I'll explain it after we compose all these transformations\n",
    "\n",
    "        self.tf_compose = transforms.Compose([tf_resize,tf_totensor,tf_normalize])\n",
    "        \n",
    "        self.optimizer = optimizer\n",
    "        \n",
    "    def forward(self,x):\n",
    "        # Copy paste from the previous article\n",
    "        y = nn.functional.relu(self.input_layer(x))\n",
    "        y = nn.functional.relu(self.hidden_layer1(y))\n",
    "        y = self.output_layer(y)\n",
    "        return y\n",
    "    \n",
    "    def training_step(self, batch, batch_idx):\n",
    "        # Copy paste from the previous article\n",
    "        inputs, labels = batch\n",
    "        inputs = inputs.view(inputs.shape[0],-1)\n",
    "        \n",
    "        outputs = self.forward(inputs)\n",
    "        loss = nn.functional.cross_entropy(outputs,labels) # --> NEW. Using nn.CrossEntropyLoss\n",
    "        \n",
    "        return loss\n",
    "    \n",
    "    def validation_step(self, batch, batch_idx):\n",
    "        # This is new, but the structure is the same as training_step\n",
    "        inputs, labels = batch\n",
    "        inputs = inputs.view(inputs.shape[0],-1)\n",
    "        \n",
    "        outputs = self.forward(inputs)\n",
    "        loss = nn.functional.cross_entropy(outputs,labels)\n",
    "        \n",
    "        preds = torch.argmax(outputs, dim=1)\n",
    "        acc = accuracy(preds, labels) # --> NEW\n",
    "        \n",
    "        # Calling self.log will surface up scalars for you in TensorBoard\n",
    "        self.log('val_loss', loss, prog_bar=True)\n",
    "        self.log('val_acc', acc, prog_bar=True)\n",
    "        \n",
    "        return loss\n",
    "    \n",
    "    def test_step(self, batch, batch_idx):\n",
    "        # This is new, but the structure is the same as test_step\n",
    "        # but I replace val_loss --> test_loss etc\n",
    "        inputs, labels = batch\n",
    "        inputs = inputs.view(inputs.shape[0],-1)\n",
    "        \n",
    "        outputs = self.forward(inputs)\n",
    "        loss = nn.functional.cross_entropy(outputs,labels)\n",
    "        \n",
    "        preds = torch.argmax(outputs, dim=1)\n",
    "        acc = accuracy(preds, labels)\n",
    "        \n",
    "        # Calling self.log will surface up scalars for you in TensorBoard\n",
    "        self.log('test_loss', loss, prog_bar=True)\n",
    "        self.log('test_acc', acc, prog_bar=True)\n",
    "        \n",
    "        return loss\n",
    "    \n",
    "    def configure_optimizers(self):\n",
    "        if self.optimizer == 'sps':\n",
    "            optimizer = sps.Sps(self.parameters()) # No learning rate to be set :D\n",
    "        else:\n",
    "            optimizer = torch.optim.Adam(self.parameters(), lr=1e-3)\n",
    "        return optimizer\n",
    "    \n",
    "    ####################\n",
    "    # DATA RELATED HOOKS\n",
    "    ####################\n",
    "\n",
    "    def prepare_data(self):\n",
    "        # download once\n",
    "        datasets.MNIST(root='./', train=True, download=True)\n",
    "        datasets.MNIST(root='./', train=False, download=True)\n",
    "    \n",
    "    def setup(self, stage=None):\n",
    "        # split, transform, secretly move to GPU (if needed) by PL (not by us)\n",
    "        if stage == 'fit' or stage is None:\n",
    "            mnist_full = datasets.MNIST(root='./', train=True, transform=self.tf_compose)\n",
    "            self.mnist_train, self.mnist_val = random_split(mnist_full, [55000, 5000])\n",
    "            \n",
    "        if stage == 'fit' or stage is None:\n",
    "            self.mnist_test = datasets.MNIST(root='./', train=False, transform=self.tf_compose)\n",
    "            \n",
    "    def train_dataloader(self): \n",
    "        return DataLoader(self.mnist_train, batch_size=100, num_workers=2)\n",
    "\n",
    "    def val_dataloader(self):\n",
    "        return DataLoader(self.mnist_val, batch_size=100, num_workers=2)\n",
    "    \n",
    "    def test_dataloader(self):\n",
    "        return DataLoader(self.mnist_test, batch_size=100, num_workers=2)"
   ]
  },
  {
   "cell_type": "code",
   "execution_count": 4,
   "id": "removed-cleveland",
   "metadata": {},
   "outputs": [],
   "source": [
    "# 3. Load from checkpoint\n",
    "\n",
    "model = FNN.load_from_checkpoint(\n",
    "    checkpoint_path='./lightning_logs/version_0/checkpoints/epoch=9-step=5500.ckpt',\n",
    "    input_size=784,\n",
    "    num_neurons_hidden1=100,\n",
    "    num_neurons_hidden2=50,\n",
    "    output_size=10\n",
    ") # version 0 is my Adam implementation\n"
   ]
  },
  {
   "cell_type": "markdown",
   "id": "perceived-plate",
   "metadata": {},
   "source": [
    "# Inference"
   ]
  },
  {
   "cell_type": "markdown",
   "id": "supported-merchant",
   "metadata": {},
   "source": [
    "After loading the model, we can perform, for example, inference as follows."
   ]
  },
  {
   "cell_type": "code",
   "execution_count": 5,
   "id": "working-negotiation",
   "metadata": {},
   "outputs": [
    {
     "data": {
      "text/plain": [
       "<matplotlib.image.AxesImage at 0x7f9b7dec3d30>"
      ]
     },
     "execution_count": 5,
     "metadata": {},
     "output_type": "execute_result"
    },
    {
     "data": {
      "image/png": "[encoded data removed]",
      "text/plain": [
       "<Figure size 432x288 with 1 Axes>"
      ]
     },
     "metadata": {
      "needs_background": "light"
     },
     "output_type": "display_data"
    }
   ],
   "source": [
    "iterator = iter(\n",
    "    DataLoader(datasets.MNIST(root='./', train=False, download=True, transform=model.tf_compose),\n",
    "               batch_size=1\n",
    "              )\n",
    ")\n",
    "image = next(iterator)\n",
    "image = image[0][0]\n",
    "plt.imshow(image.numpy().transpose(1,2,0),cmap='gray')"
   ]
  },
  {
   "cell_type": "code",
   "execution_count": 6,
   "id": "right-report",
   "metadata": {},
   "outputs": [
    {
     "data": {
      "text/plain": [
       "tensor(7)"
      ]
     },
     "execution_count": 6,
     "metadata": {},
     "output_type": "execute_result"
    }
   ],
   "source": [
    "model.forward(image.view(image.size(0),-1)).argmax()"
   ]
  },
  {
   "cell_type": "markdown",
   "id": "junior-validity",
   "metadata": {},
   "source": [
    "# Continue Training\n",
    "\n",
    "We can also contine training"
   ]
  },
  {
   "cell_type": "code",
   "execution_count": 7,
   "id": "atlantic-baltimore",
   "metadata": {},
   "outputs": [
    {
     "name": "stderr",
     "output_type": "stream",
     "text": [
      "GPU available: True, used: True\n",
      "TPU available: False, using: 0 TPU cores\n",
      "IPU available: False, using: 0 IPUs\n",
      "HPU available: False, using: 0 HPUs\n",
      "LOCAL_RANK: 0 - CUDA_VISIBLE_DEVICES: [0]\n",
      "\n",
      "  | Name          | Type   | Params\n",
      "-----------------------------------------\n",
      "0 | input_layer   | Linear | 78.5 K\n",
      "1 | hidden_layer1 | Linear | 5.0 K \n",
      "2 | output_layer  | Linear | 510   \n",
      "-----------------------------------------\n",
      "84.1 K    Trainable params\n",
      "0         Non-trainable params\n",
      "84.1 K    Total params\n",
      "0.336     Total estimated model params size (MB)\n"
     ]
    },
    {
     "data": {
      "application/vnd.jupyter.widget-view+json": {
       "model_id": "",
       "version_major": 2,
       "version_minor": 0
      },
      "text/plain": [
       "Sanity Checking: 0it [00:00, ?it/s]"
      ]
     },
     "metadata": {},
     "output_type": "display_data"
    },
    {
     "name": "stderr",
     "output_type": "stream",
     "text": [
      "/home/ardimas/miniconda3/envs/pytorch_tutorial/lib/python3.8/site-packages/pytorch_lightning/trainer/connectors/data_connector.py:240: PossibleUserWarning: The dataloader, val_dataloader 0, does not have many workers which may be a bottleneck. Consider increasing the value of the `num_workers` argument` (try 24 which is the number of cpus on this machine) in the `DataLoader` init to improve performance.\n",
      "  rank_zero_warn(\n",
      "/home/ardimas/miniconda3/envs/pytorch_tutorial/lib/python3.8/site-packages/torchmetrics/utilities/prints.py:36: UserWarning: Torchmetrics v0.9 introduced a new argument class property called `full_state_update` that has\n",
      "                not been set for this class (_ResultMetric). The property determines if `update` by\n",
      "                default needs access to the full metric state. If this is not the case, significant speedups can be\n",
      "                achieved and we recommend setting this to `False`.\n",
      "                We provide an checking function\n",
      "                `from torchmetrics.utilities import check_forward_no_full_state`\n",
      "                that can be used to check if the `full_state_update=True` (old and potential slower behaviour,\n",
      "                default for now) or if `full_state_update=False` can be used safely.\n",
      "                \n",
      "  warnings.warn(*args, **kwargs)\n",
      "/home/ardimas/miniconda3/envs/pytorch_tutorial/lib/python3.8/site-packages/pytorch_lightning/trainer/connectors/data_connector.py:240: PossibleUserWarning: The dataloader, train_dataloader, does not have many workers which may be a bottleneck. Consider increasing the value of the `num_workers` argument` (try 24 which is the number of cpus on this machine) in the `DataLoader` init to improve performance.\n",
      "  rank_zero_warn(\n"
     ]
    },
    {
     "data": {
      "application/vnd.jupyter.widget-view+json": {
       "model_id": "5ef34f2e28de466084f4a44e54556c3f",
       "version_major": 2,
       "version_minor": 0
      },
      "text/plain": [
       "Training: 0it [00:00, ?it/s]"
      ]
     },
     "metadata": {},
     "output_type": "display_data"
    },
    {
     "data": {
      "application/vnd.jupyter.widget-view+json": {
       "model_id": "",
       "version_major": 2,
       "version_minor": 0
      },
      "text/plain": [
       "Validation: 0it [00:00, ?it/s]"
      ]
     },
     "metadata": {},
     "output_type": "display_data"
    }
   ],
   "source": [
    "try:\n",
    "    trainer = pl.Trainer(gpus=1,max_epochs=1)\n",
    "except Exception as e:\n",
    "    # most likely due to GPU, so fallback to non GPU\n",
    "    print(e)\n",
    "    trainer = pl.Trainer(max_epochs=1)\n",
    "    \n",
    "trainer.fit(model)"
   ]
  },
  {
   "cell_type": "code",
   "execution_count": 8,
   "id": "tender-translator",
   "metadata": {},
   "outputs": [
    {
     "data": {
      "text/plain": [
       "Reusing TensorBoard on port 6006 (pid 111424), started 0:21:41 ago. (Use '!kill 111424' to kill it.)"
      ]
     },
     "metadata": {},
     "output_type": "display_data"
    },
    {
     "data": {
      "text/html": [
       "\n",
       "      <iframe id=\"tensorboard-frame-382f720ae671d16e\" width=\"100%\" height=\"800\" frameborder=\"0\">\n",
       "      </iframe>\n",
       "      <script>\n",
       "        (function() {\n",
       "          const frame = document.getElementById(\"tensorboard-frame-382f720ae671d16e\");\n",
       "          const url = new URL(\"/\", window.location);\n",
       "          const port = 6006;\n",
       "          if (port) {\n",
       "            url.port = port;\n",
       "          }\n",
       "          frame.src = url;\n",
       "        })();\n",
       "      </script>\n",
       "    "
      ],
      "text/plain": [
       "<IPython.core.display.HTML object>"
      ]
     },
     "metadata": {},
     "output_type": "display_data"
    }
   ],
   "source": [
    "%load_ext tensorboard\n",
    "%tensorboard --logdir lightning_logs/"
   ]
  },
  {
   "cell_type": "code",
   "execution_count": 9,
   "id": "economic-trash",
   "metadata": {},
   "outputs": [
    {
     "name": "stderr",
     "output_type": "stream",
     "text": [
      "/home/ardimas/miniconda3/envs/pytorch_tutorial/lib/python3.8/site-packages/pytorch_lightning/trainer/trainer.py:1446: UserWarning: `.test(ckpt_path=None)` was called without a model. The best model of the previous `fit` call will be used. You can pass `test(ckpt_path='best')` to use and best model checkpoint and avoid this warning or `ckpt_path=trainer.checkpoint_callback.last_model_path` to use the last model.\n",
      "  rank_zero_warn(\n",
      "Restoring states from the checkpoint path at /home/ardimas/Documents/PROJECTS/pytorch_cv/lightning_logs/version_4/checkpoints/epoch=0-step=550.ckpt\n",
      "LOCAL_RANK: 0 - CUDA_VISIBLE_DEVICES: [0]\n",
      "Loaded model weights from checkpoint at /home/ardimas/Documents/PROJECTS/pytorch_cv/lightning_logs/version_4/checkpoints/epoch=0-step=550.ckpt\n",
      "/home/ardimas/miniconda3/envs/pytorch_tutorial/lib/python3.8/site-packages/pytorch_lightning/trainer/connectors/data_connector.py:240: PossibleUserWarning: The dataloader, test_dataloader 0, does not have many workers which may be a bottleneck. Consider increasing the value of the `num_workers` argument` (try 24 which is the number of cpus on this machine) in the `DataLoader` init to improve performance.\n",
      "  rank_zero_warn(\n"
     ]
    },
    {
     "data": {
      "application/vnd.jupyter.widget-view+json": {
       "model_id": "a6d80710bebb4854a55a1c80039d1842",
       "version_major": 2,
       "version_minor": 0
      },
      "text/plain": [
       "Testing: 0it [00:00, ?it/s]"
      ]
     },
     "metadata": {},
     "output_type": "display_data"
    },
    {
     "name": "stdout",
     "output_type": "stream",
     "text": [
      "────────────────────────────────────────────────────────────────────────────────────────────────────────────────────────\n",
      "       Test metric             DataLoader 0\n",
      "────────────────────────────────────────────────────────────────────────────────────────────────────────────────────────\n",
      "        test_acc            0.9678000211715698\n",
      "        test_loss           0.1038515716791153\n",
      "────────────────────────────────────────────────────────────────────────────────────────────────────────────────────────\n"
     ]
    },
    {
     "data": {
      "text/plain": [
       "[{'test_loss': 0.1038515716791153, 'test_acc': 0.9678000211715698}]"
      ]
     },
     "execution_count": 9,
     "metadata": {},
     "output_type": "execute_result"
    }
   ],
   "source": [
    "trainer.test()"
   ]
  },
  {
   "cell_type": "markdown",
   "id": "southeast-handling",
   "metadata": {},
   "source": [
    "Notice that the validation and test accuracy are already good even the number of epochs is only one"
   ]
  },
  {
   "cell_type": "code",
   "execution_count": null,
   "id": "concrete-focus",
   "metadata": {},
   "outputs": [],
   "source": []
  }
 ],
 "metadata": {
  "kernelspec": {
   "display_name": "Python 3 (ipykernel)",
   "language": "python",
   "name": "python3"
  },
  "language_info": {
   "codemirror_mode": {
    "name": "ipython",
    "version": 3
   },
   "file_extension": ".py",
   "mimetype": "text/x-python",
   "name": "python",
   "nbconvert_exporter": "python",
   "pygments_lexer": "ipython3",
   "version": "3.8.0"
  }
 },
 "nbformat": 4,
 "nbformat_minor": 5
}
