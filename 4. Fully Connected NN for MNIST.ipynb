{
 "cells": [
  {
   "cell_type": "code",
   "execution_count": 1,
   "id": "supreme-johnston",
   "metadata": {},
   "outputs": [],
   "source": [
    "%config Completer.use_jedi = False # in case your autocomplete does not work"
   ]
  },
  {
   "cell_type": "markdown",
   "id": "worse-consultancy",
   "metadata": {},
   "source": [
    "Now it's time to return to our deep learning topic. This time, we are gonna use a fully connected deep neural network for handwritten digit classification from MNIST. "
   ]
  },
  {
   "cell_type": "markdown",
   "id": "dangerous-guinea",
   "metadata": {},
   "source": [
    "# Load Dataset"
   ]
  },
  {
   "cell_type": "markdown",
   "id": "satellite-newport",
   "metadata": {},
   "source": [
    "Unfortunately you need to go through this boring step first!"
   ]
  },
  {
   "cell_type": "code",
   "execution_count": 2,
   "id": "prime-change",
   "metadata": {},
   "outputs": [],
   "source": [
    "import matplotlib.pyplot as plt\n",
    "import numpy as np\n",
    "import torch\n",
    "from torchvision import datasets, transforms"
   ]
  },
  {
   "cell_type": "code",
   "execution_count": 3,
   "id": "dressed-concord",
   "metadata": {},
   "outputs": [],
   "source": [
    "tf_resize = transforms.Resize((28,28)) # make sure that all loaded images have these dimensions\n",
    "tf_totensor = transforms.ToTensor() # Why? pytorch uses this datatype\n",
    "tf_normalize = transforms.Normalize(mean=(.5,),std=(.5,)) # this is rather tricky to explain. I'll explain it after we compose all these transformations\n",
    "\n",
    "tf_compose = transforms.Compose([tf_resize,tf_totensor,tf_normalize])\n",
    "\n",
    "# This is how you read this concatenation of transformations.\n",
    "# The output image will have the dimensions of 28x28 with the datatype of Tensor,\n",
    "# and the range of value is from -1 to 1. \n",
    "# The range value from -1 to 1 is due to the Normalization.\n",
    "# Why -1 to 1? Curious? I'll give you a chance to figure it out yourself\n",
    "# Stuck? we can have a chat\n",
    "\n",
    "# transforms.ToTensor gives the range of 0 to 1.\n",
    "# Now if you do this, (v-mean)/std then you will have the range of -1 to 1, \n",
    "# where the value of v is from 0 to 1\n"
   ]
  },
  {
   "cell_type": "code",
   "execution_count": 4,
   "id": "restricted-moses",
   "metadata": {},
   "outputs": [],
   "source": [
    "training_set = datasets.MNIST(root='./',download=True,train=True, transform=tf_compose) # don't forget to transform it\n",
    "test_set = datasets.MNIST(root='./',download=True,train=False, transform=tf_compose)\n",
    "\n",
    "training_loader = torch.utils.data.DataLoader(\n",
    "    dataset=training_set, \n",
    "    batch_size=4,\n",
    "    shuffle=True, # good for training\n",
    ")\n",
    "\n",
    "test_loader = torch.utils.data.DataLoader(\n",
    "    dataset=test_set, \n",
    "    batch_size=4,\n",
    "    shuffle=False, # not relevant for testing\n",
    ")"
   ]
  },
  {
   "cell_type": "markdown",
   "id": "patent-testament",
   "metadata": {},
   "source": [
    "Let's load one batch and investigate"
   ]
  },
  {
   "cell_type": "code",
   "execution_count": 5,
   "id": "linear-accessory",
   "metadata": {},
   "outputs": [
    {
     "name": "stdout",
     "output_type": "stream",
     "text": [
      "the first label is  tensor(7)\n"
     ]
    }
   ],
   "source": [
    "training_set_iter = iter(training_loader)\n",
    "batch = training_set_iter.next() # this loads the first batch\n",
    "\n",
    "first_tensor = batch[0][0]\n",
    "first_label = batch[1][0]\n",
    "\n",
    "print(\"the first label is \", first_label)"
   ]
  },
  {
   "cell_type": "code",
   "execution_count": 6,
   "id": "greenhouse-lebanon",
   "metadata": {},
   "outputs": [
    {
     "data": {
      "image/png": "[encoded data removed]",
      "text/plain": [
       "<Figure size 432x288 with 1 Axes>"
      ]
     },
     "metadata": {
      "needs_background": "light"
     },
     "output_type": "display_data"
    }
   ],
   "source": [
    "# let's check the histogram\n",
    "# you should see the range from -1 to 1\n",
    "\n",
    "plt.hist(np.ravel(first_tensor.numpy()), bins='auto'); "
   ]
  },
  {
   "cell_type": "code",
   "execution_count": 7,
   "id": "representative-polyester",
   "metadata": {},
   "outputs": [],
   "source": [
    "# anyway, in case you need to display it, we need to cast it back to numpy and de-normalize it\n",
    "\n",
    "def tensor_to_numpy(x):\n",
    "    # it is important to clone the tensor so that we won't accidentally change the original data\n",
    "    y = x.clone().detach().numpy()\n",
    "\n",
    "    # check the size\n",
    "    # y.size() will output something like torch.Size([1, 28, 28])\n",
    "    # so we need to rearrange it\n",
    "    y = y.transpose(1,2,0)\n",
    "    \n",
    "    # denormalize\n",
    "    y = y*np.array([.5,.5,.5]) + np.array([.5,.5,.5])\n",
    "    \n",
    "    return y"
   ]
  },
  {
   "cell_type": "markdown",
   "id": "fancy-observer",
   "metadata": {},
   "source": [
    "Then, we can plot it."
   ]
  },
  {
   "cell_type": "code",
   "execution_count": 8,
   "id": "lyric-stereo",
   "metadata": {},
   "outputs": [
    {
     "data": {
      "image/png": "[encoded data removed]",
      "text/plain": [
       "<Figure size 1152x648 with 4 Axes>"
      ]
     },
     "metadata": {
      "needs_background": "light"
     },
     "output_type": "display_data"
    }
   ],
   "source": [
    "plt.figure(figsize=(16,9))\n",
    "\n",
    "for idx,data in enumerate(batch[0]):\n",
    "    plt.subplot(1,4,idx+1)\n",
    "    plt.imshow(tensor_to_numpy(data))"
   ]
  },
  {
   "cell_type": "markdown",
   "id": "opponent-influence",
   "metadata": {},
   "source": [
    "# NN Model"
   ]
  },
  {
   "cell_type": "markdown",
   "id": "assisted-barrel",
   "metadata": {},
   "source": [
    "We are going to use a fully densed neural network with 2 hidden layers.\n",
    "\n",
    "Activation functions that are used are RelU."
   ]
  },
  {
   "cell_type": "code",
   "execution_count": 9,
   "id": "medieval-actor",
   "metadata": {},
   "outputs": [],
   "source": [
    "import torch.nn as nn\n",
    "\n",
    "class FNN(nn.Module):\n",
    "    \n",
    "    def __init__(self, input_size, num_neurons_hidden1,  num_neurons_hidden2, output_size):\n",
    "        super().__init__()\n",
    "        self.input_layer = nn.Linear(input_size,num_neurons_hidden1)\n",
    "        self.hidden_layer1 = nn.Linear(num_neurons_hidden1,num_neurons_hidden2)\n",
    "        self.output_layer = nn.Linear(num_neurons_hidden2,output_size)\n",
    "        \n",
    "    def forward(self,x):\n",
    "        y = nn.functional.relu(self.input_layer(x))\n",
    "        y = nn.functional.relu(self.hidden_layer1(y))\n",
    "        y = self.output_layer(y)\n",
    "        return y\n",
    "        \n",
    "        # Note that we are going to use CrossEntropy loss criterion later\n",
    "        # You can find it here (https://pytorch.org/docs/stable/generated/torch.nn.CrossEntropyLoss.html)\n",
    "        # that it already contains softmax\n",
    "        \n",
    "        # Recall that for a multi-class classification we use softmax instead of sigmoid\n",
    "        \n",
    "        "
   ]
  },
  {
   "cell_type": "code",
   "execution_count": 10,
   "id": "dated-douglas",
   "metadata": {},
   "outputs": [
    {
     "name": "stdout",
     "output_type": "stream",
     "text": [
      "FNN(\n",
      "  (input_layer): Linear(in_features=784, out_features=125, bias=True)\n",
      "  (hidden_layer1): Linear(in_features=125, out_features=65, bias=True)\n",
      "  (output_layer): Linear(in_features=65, out_features=10, bias=True)\n",
      ")\n"
     ]
    }
   ],
   "source": [
    "try:\n",
    "    device = torch.device('cuda' if torch.cuda.is_available() else 'cpu')\n",
    "    model = FNN(784, 125, 65, 10).to(device)\n",
    "except:\n",
    "    model = FNN(784, 125, 65, 10)\n",
    "\n",
    "\n",
    "print(model)"
   ]
  },
  {
   "cell_type": "code",
   "execution_count": 11,
   "id": "ready-wyoming",
   "metadata": {},
   "outputs": [],
   "source": [
    "# Redefine the loaders such that the batch size is big\n",
    "\n",
    "training_loader = torch.utils.data.DataLoader(\n",
    "    dataset=training_set, \n",
    "    batch_size=100,\n",
    "    shuffle=True, # good for training\n",
    ")\n",
    "\n",
    "test_loader = torch.utils.data.DataLoader(\n",
    "    dataset=test_set, \n",
    "    batch_size=100,\n",
    "    shuffle=False, # not relevant for testing\n",
    ")"
   ]
  },
  {
   "cell_type": "code",
   "execution_count": 12,
   "id": "existing-oasis",
   "metadata": {},
   "outputs": [
    {
     "data": {
      "application/vnd.jupyter.widget-view+json": {
       "model_id": "57c2ad60f6274de98790913e906b3ca5",
       "version_major": 2,
       "version_minor": 0
      },
      "text/plain": [
       "  0%|          | 0/100 [00:00<?, ?it/s]"
      ]
     },
     "metadata": {},
     "output_type": "display_data"
    }
   ],
   "source": [
    "from tqdm.notebook import tqdm\n",
    "\n",
    "\n",
    "\n",
    "loss_fun = nn.CrossEntropyLoss()\n",
    "optimizer = torch.optim.Adam(params=model.parameters(), lr=1e-4)\n",
    "\n",
    "num_epochs = 100\n",
    "\n",
    "training_losses = []\n",
    "test_losses = []\n",
    "\n",
    "for i in tqdm(range(num_epochs)):\n",
    "    \n",
    "    training_loss_accumulated = 0. # temp var\n",
    "    test_loss_accumulated = 0. # temp var\n",
    "    \n",
    "    # training\n",
    "    for idx, (inputs, labels) in enumerate(training_loader):\n",
    "        # we can process one batch in one sweep\n",
    "        # first rearrange it such that the size is [batch_size, 28*28]\n",
    "        inputs = inputs.view(inputs.shape[0],-1)\n",
    "        \n",
    "        try:\n",
    "            # utilize cuda (if any)\n",
    "            inputs = inputs.to(device)\n",
    "            labels = labels.to(device)\n",
    "        except:\n",
    "            pass\n",
    "        \n",
    "        outputs = model.forward(inputs)\n",
    "        \n",
    "        loss = loss_fun(outputs,labels)\n",
    "        \n",
    "        optimizer.zero_grad()\n",
    "        loss.backward()\n",
    "        optimizer.step()\n",
    "        \n",
    "        training_loss_accumulated += loss.item()\n",
    "        \n",
    "    # validation \n",
    "    with torch.no_grad(): # to speed up\n",
    "        for idx, (inputs, labels) in enumerate(test_loader):\n",
    "            # we can process one batch in one sweep\n",
    "            # first rearrange it such that the size is [batch_size, 28*28]\n",
    "            inputs = inputs.view(inputs.shape[0],-1)\n",
    "            \n",
    "            try:\n",
    "                # utilize cuda (if any)\n",
    "                inputs = inputs.to(device)\n",
    "                labels = labels.to(device)\n",
    "            except:\n",
    "                pass\n",
    "            \n",
    "            outputs = model.forward(inputs)\n",
    "        \n",
    "            loss = loss_fun(outputs,labels)\n",
    "            \n",
    "            test_loss_accumulated += loss.item()\n",
    "        \n",
    "    # logs    \n",
    "    training_losses.append(training_loss_accumulated/len(training_loader)) # take the average\n",
    "    test_losses.append(test_loss_accumulated/len(test_loader)) # take the average\n"
   ]
  },
  {
   "cell_type": "code",
   "execution_count": 13,
   "id": "rental-thumb",
   "metadata": {},
   "outputs": [
    {
     "data": {
      "image/png": "[encoded data removed]",
      "text/plain": [
       "<Figure size 432x288 with 1 Axes>"
      ]
     },
     "metadata": {
      "needs_background": "light"
     },
     "output_type": "display_data"
    }
   ],
   "source": [
    "plt.plot(training_losses,label='training error')\n",
    "plt.plot(test_losses,label='test error')\n",
    "plt.legend()\n",
    "plt.xlabel('epoch')\n",
    "plt.ylabel('error');"
   ]
  },
  {
   "cell_type": "markdown",
   "id": "imported-sitting",
   "metadata": {},
   "source": [
    "If you want to increase the number of epochs, you should see the gap between the training and the test errors widening. (If you are patient enough!)"
   ]
  },
  {
   "cell_type": "markdown",
   "id": "quick-theme",
   "metadata": {},
   "source": [
    "Let's test it with one of test set."
   ]
  },
  {
   "cell_type": "code",
   "execution_count": 14,
   "id": "verbal-durham",
   "metadata": {},
   "outputs": [],
   "source": [
    "test_set_iter = iter(test_loader)\n",
    "batch = test_set_iter.next()"
   ]
  },
  {
   "cell_type": "code",
   "execution_count": 15,
   "id": "scientific-highway",
   "metadata": {},
   "outputs": [
    {
     "data": {
      "text/plain": [
       "<matplotlib.image.AxesImage at 0x7f59e806da30>"
      ]
     },
     "execution_count": 15,
     "metadata": {},
     "output_type": "execute_result"
    },
    {
     "data": {
      "image/png": "[encoded data removed]",
      "text/plain": [
       "<Figure size 432x288 with 1 Axes>"
      ]
     },
     "metadata": {
      "needs_background": "light"
     },
     "output_type": "display_data"
    }
   ],
   "source": [
    "plt.imshow(tensor_to_numpy(batch[0][0]))"
   ]
  },
  {
   "cell_type": "code",
   "execution_count": 16,
   "id": "tutorial-democrat",
   "metadata": {},
   "outputs": [],
   "source": [
    "test_img = batch[0][0]\n",
    "flatten_img = test_img.view(test_img.shape[0],-1)"
   ]
  },
  {
   "cell_type": "code",
   "execution_count": 17,
   "id": "modified-seminar",
   "metadata": {},
   "outputs": [],
   "source": [
    "try:\n",
    "    result = torch.argmax(model.forward(flatten_img.to(device)))\n",
    "except:\n",
    "    result = torch.argmax(model.forward(flatten_img))"
   ]
  },
  {
   "cell_type": "code",
   "execution_count": 18,
   "id": "cathedral-petite",
   "metadata": {},
   "outputs": [
    {
     "name": "stdout",
     "output_type": "stream",
     "text": [
      "tensor(7, device='cuda:0')\n"
     ]
    }
   ],
   "source": [
    "print(result)"
   ]
  },
  {
   "cell_type": "code",
   "execution_count": null,
   "id": "progressive-savannah",
   "metadata": {},
   "outputs": [],
   "source": []
  }
 ],
 "metadata": {
  "kernelspec": {
   "display_name": "Python 3 (ipykernel)",
   "language": "python",
   "name": "python3"
  },
  "language_info": {
   "codemirror_mode": {
    "name": "ipython",
    "version": 3
   },
   "file_extension": ".py",
   "mimetype": "text/x-python",
   "name": "python",
   "nbconvert_exporter": "python",
   "pygments_lexer": "ipython3",
   "version": "3.8.0"
  }
 },
 "nbformat": 4,
 "nbformat_minor": 5
}
