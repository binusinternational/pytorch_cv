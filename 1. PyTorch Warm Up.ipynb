{
 "cells": [
  {
   "cell_type": "markdown",
   "id": "included-manitoba",
   "metadata": {},
   "source": [
    "The goal of this article is to get to know PyTorch very quickly. Specifically, this article aims to build intuition of how PyTorch works."
   ]
  },
  {
   "cell_type": "markdown",
   "id": "sustainable-ultimate",
   "metadata": {},
   "source": [
    "# Tensor in PyTorch"
   ]
  },
  {
   "cell_type": "markdown",
   "id": "consistent-bulgaria",
   "metadata": {},
   "source": [
    "A tensor can be initialized by running:"
   ]
  },
  {
   "cell_type": "code",
   "execution_count": 1,
   "id": "christian-monkey",
   "metadata": {},
   "outputs": [
    {
     "name": "stdout",
     "output_type": "stream",
     "text": [
      "tensor([1, 2, 3, 4])\n"
     ]
    }
   ],
   "source": [
    "import torch\n",
    "\n",
    "x = torch.tensor([1,2,3,4])\n",
    "print(x)"
   ]
  },
  {
   "cell_type": "markdown",
   "id": "bridal-praise",
   "metadata": {},
   "source": [
    "Indexing can be done a similar fashion as in that of NumPy. For example, if we wanna grab the values of 2 and 3, we can do as follows."
   ]
  },
  {
   "cell_type": "code",
   "execution_count": 2,
   "id": "administrative-republic",
   "metadata": {},
   "outputs": [
    {
     "name": "stdout",
     "output_type": "stream",
     "text": [
      "tensor([2, 3])\n"
     ]
    }
   ],
   "source": [
    "print(x[1:3])"
   ]
  },
  {
   "cell_type": "markdown",
   "id": "further-james",
   "metadata": {},
   "source": [
    "It is important to note that the PyTorch's datatypes need to be converted to those of NumPy. It is mainly due to the fact that we still need to use matplotlib to plot figures. Generally, we can do the followings."
   ]
  },
  {
   "cell_type": "code",
   "execution_count": 3,
   "id": "apparent-defense",
   "metadata": {},
   "outputs": [
    {
     "data": {
      "text/plain": [
       "array([1, 2, 3, 4])"
      ]
     },
     "execution_count": 3,
     "metadata": {},
     "output_type": "execute_result"
    }
   ],
   "source": [
    "x.numpy()"
   ]
  },
  {
   "cell_type": "markdown",
   "id": "developing-trigger",
   "metadata": {},
   "source": [
    "or"
   ]
  },
  {
   "cell_type": "code",
   "execution_count": 4,
   "id": "sharp-playlist",
   "metadata": {},
   "outputs": [
    {
     "data": {
      "text/plain": [
       "array([1, 2, 3, 4])"
      ]
     },
     "execution_count": 4,
     "metadata": {},
     "output_type": "execute_result"
    }
   ],
   "source": [
    "x.detach().numpy()"
   ]
  },
  {
   "cell_type": "markdown",
   "id": "outdoor-express",
   "metadata": {},
   "source": [
    "The latter one is more general than the former one. The main difference will be clear once we discuss the autograd feature of PyTorch."
   ]
  },
  {
   "cell_type": "markdown",
   "id": "attractive-print",
   "metadata": {},
   "source": [
    "# Linear Regression with PyTorch"
   ]
  },
  {
   "cell_type": "markdown",
   "id": "included-official",
   "metadata": {},
   "source": [
    "Before diving into linear regression, let's start by discussing autograd in PyTorch."
   ]
  },
  {
   "cell_type": "markdown",
   "id": "developed-verification",
   "metadata": {},
   "source": [
    "## Autograd"
   ]
  },
  {
   "cell_type": "markdown",
   "id": "massive-polyester",
   "metadata": {},
   "source": [
    "The key operation of 'learning' in machine learning is autograd. Mathematically, it is a fancy way to approximate partial derivation at a certain point. \n",
    "\n",
    "Suppose we want to calculate:\n",
    "$$f(x,y) = 2x^2 + 4y^3$$\n",
    "\n",
    "$$\\frac{\\partial  f(x,y)}{\\partial x} = 4x$$\n",
    "\n",
    "$$\\frac{\\partial  f(x,y)}{\\partial y} = 12y^2$$\n",
    "\n",
    "Then, the partial derivative of the function above at $$(2,3)$$ is $$(4\\times (2), 12 \\times (3)^2) = (8, 108)$$.\n",
    "\n",
    "In PyTorch, we can calculate it automatically as shown below."
   ]
  },
  {
   "cell_type": "code",
   "execution_count": 5,
   "id": "handled-philip",
   "metadata": {},
   "outputs": [
    {
     "name": "stdout",
     "output_type": "stream",
     "text": [
      "tensor([8.]) tensor([108.])\n",
      "tensor([116.], grad_fn=<AddBackward0>)\n"
     ]
    }
   ],
   "source": [
    "x = torch.tensor([2.], requires_grad=True)\n",
    "y = torch.tensor([3.], requires_grad=True)\n",
    "f_xy = 2*x**2 + 4*y**3\n",
    "\n",
    "f_xy.backward()\n",
    "print(x.grad,y.grad)\n",
    "print(f_xy)"
   ]
  },
  {
   "cell_type": "markdown",
   "id": "portable-concept",
   "metadata": {},
   "source": [
    "Note that f_xy return the sum of both components. Anyway, x.grad and y.grad are more important. \n",
    "\n",
    "In PyTorch, there is another important fact that PyTorch users must know. That is, if we put the backward operation within a loop, e.g., the epoch loop, then the grad will be accumulated."
   ]
  },
  {
   "cell_type": "code",
   "execution_count": 6,
   "id": "simple-technology",
   "metadata": {},
   "outputs": [],
   "source": [
    "%config Completer.use_jedi = False"
   ]
  },
  {
   "cell_type": "code",
   "execution_count": 7,
   "id": "neither-carry",
   "metadata": {},
   "outputs": [],
   "source": [
    "import torch"
   ]
  },
  {
   "cell_type": "code",
   "execution_count": 8,
   "id": "entertaining-athletics",
   "metadata": {},
   "outputs": [
    {
     "name": "stdout",
     "output_type": "stream",
     "text": [
      "tensor([1., 1., 1.])\n",
      "tensor([2., 2., 2.])\n",
      "tensor([3., 3., 3.])\n"
     ]
    }
   ],
   "source": [
    "weights = torch.ones(3, requires_grad=True)\n",
    "\n",
    "num_epochs = 3;\n",
    "\n",
    "for i in range(num_epochs):\n",
    "    output = weights.sum()\n",
    "    \n",
    "    output.backward()\n",
    "    print(weights.grad)"
   ]
  },
  {
   "cell_type": "markdown",
   "id": "exceptional-local",
   "metadata": {},
   "source": [
    "See that the grad is accumulated. "
   ]
  },
  {
   "cell_type": "markdown",
   "id": "victorian-latino",
   "metadata": {},
   "source": [
    "## Into the linear regression "
   ]
  },
  {
   "cell_type": "markdown",
   "id": "concerned-segment",
   "metadata": {},
   "source": [
    "Suppose we want to estimate a noisy data $y$, e.g.,:\n",
    "\n",
    "$$y = x + n,$$\n",
    "\n",
    "where $n$ is a noise. "
   ]
  },
  {
   "cell_type": "code",
   "execution_count": 9,
   "id": "different-fleece",
   "metadata": {},
   "outputs": [],
   "source": [
    "num_samples = 100\n",
    "x = torch.linspace(1,10,num_samples).view(num_samples,1)\n",
    "y = x + torch.randn(num_samples,1)"
   ]
  },
  {
   "cell_type": "code",
   "execution_count": 10,
   "id": "headed-emission",
   "metadata": {},
   "outputs": [],
   "source": [
    "import matplotlib.pyplot as plt"
   ]
  },
  {
   "cell_type": "code",
   "execution_count": 11,
   "id": "precise-retreat",
   "metadata": {},
   "outputs": [
    {
     "data": {
      "text/plain": [
       "Text(0, 0.5, 'y')"
      ]
     },
     "execution_count": 11,
     "metadata": {},
     "output_type": "execute_result"
    },
    {
     "data": {
      "image/png": "[encoded data removed]",
      "text/plain": [
       "<Figure size 432x288 with 1 Axes>"
      ]
     },
     "metadata": {
      "needs_background": "light"
     },
     "output_type": "display_data"
    }
   ],
   "source": [
    "plt.plot(x,y,'o')\n",
    "plt.xlabel('x')\n",
    "plt.ylabel('y')"
   ]
  },
  {
   "cell_type": "markdown",
   "id": "dress-brook",
   "metadata": {},
   "source": [
    "Suppose we want to estimate it with a linear model as follows:\n",
    "$$\\hat{y} = w x + b,$$\n",
    "where $w$ and $b$ are parameters to be estimated.\n",
    "\n",
    "The typical approach to create an ML model is:\n",
    "1. define a model class that has at least a constructor and a predictor,\n",
    "2. define a loss function and an optimizer, \n",
    "3. training phase, and\n",
    "4. validation phase\n",
    "\n"
   ]
  },
  {
   "cell_type": "markdown",
   "id": "occupied-agriculture",
   "metadata": {},
   "source": [
    "### 1. Define a class"
   ]
  },
  {
   "cell_type": "markdown",
   "id": "usual-sympathy",
   "metadata": {},
   "source": [
    "Let's create a NN with an input size and an output size."
   ]
  },
  {
   "cell_type": "code",
   "execution_count": 12,
   "id": "private-japanese",
   "metadata": {},
   "outputs": [],
   "source": [
    "import torch.nn as nn # let's use a NN\n",
    "class LinReg(nn.Module): # there are many useful methods from nn.Module\n",
    "    \n",
    "    def __init__(self, input_size, output_size):\n",
    "        super().__init__()\n",
    "        self.linear = nn.Linear(in_features=input_size,out_features=output_size)\n",
    "        \n",
    "    def forward(self,x):\n",
    "        prediction = self.linear(x)\n",
    "        return prediction\n",
    "    "
   ]
  },
  {
   "cell_type": "code",
   "execution_count": 13,
   "id": "local-differential",
   "metadata": {},
   "outputs": [],
   "source": [
    "model = LinReg(1,1)"
   ]
  },
  {
   "cell_type": "code",
   "execution_count": 14,
   "id": "meaningful-briefs",
   "metadata": {},
   "outputs": [
    {
     "data": {
      "text/plain": [
       "[Parameter containing:\n",
       " tensor([[0.8907]], requires_grad=True),\n",
       " Parameter containing:\n",
       " tensor([-0.9754], requires_grad=True)]"
      ]
     },
     "execution_count": 14,
     "metadata": {},
     "output_type": "execute_result"
    }
   ],
   "source": [
    "list(model.parameters())"
   ]
  },
  {
   "cell_type": "code",
   "execution_count": 15,
   "id": "commercial-constant",
   "metadata": {},
   "outputs": [
    {
     "name": "stdout",
     "output_type": "stream",
     "text": [
      "Parameter containing:\n",
      "tensor([[0.8907]], requires_grad=True) Parameter containing:\n",
      "tensor([-0.9754], requires_grad=True)\n"
     ]
    }
   ],
   "source": [
    "print(model.linear.weight,model.linear.bias)"
   ]
  },
  {
   "cell_type": "markdown",
   "id": "greenhouse-weekend",
   "metadata": {},
   "source": [
    "Note: when we instantiate a model, we will be given a randomly initialized values of the parameters, i.e., weight and bias."
   ]
  },
  {
   "cell_type": "markdown",
   "id": "fatal-bosnia",
   "metadata": {},
   "source": [
    "## 2. Loss function"
   ]
  },
  {
   "cell_type": "markdown",
   "id": "differential-alloy",
   "metadata": {},
   "source": [
    "We'll choose the mean-squared error criterion and the SGD optimizer."
   ]
  },
  {
   "cell_type": "code",
   "execution_count": 16,
   "id": "grand-quest",
   "metadata": {},
   "outputs": [],
   "source": [
    "loss_fun = nn.MSELoss()\n",
    "optimizer = torch.optim.SGD(model.parameters(),lr = 1e-3)"
   ]
  },
  {
   "cell_type": "markdown",
   "id": "heated-breeding",
   "metadata": {},
   "source": [
    "## 3. Training"
   ]
  },
  {
   "cell_type": "markdown",
   "id": "fitted-admission",
   "metadata": {},
   "source": [
    "The following is the typical flow:\n",
    "\n",
    "forward operation (run predictor) $\\rightarrow$ obtain error or loss $\\rightarrow$ calculate the gradient (backward operation) $\\rightarrow$ update parameters $\\rightarrow$ repeat"
   ]
  },
  {
   "cell_type": "code",
   "execution_count": 17,
   "id": "marked-background",
   "metadata": {},
   "outputs": [
    {
     "name": "stdout",
     "output_type": "stream",
     "text": [
      "epoch:  0  loss:  3.3694205284118652\n",
      "epoch:  1  loss:  3.048598289489746\n",
      "epoch:  2  loss:  2.7745981216430664\n",
      "epoch:  3  loss:  2.540583848953247\n",
      "epoch:  4  loss:  2.3407142162323\n",
      "epoch:  5  loss:  2.1700026988983154\n",
      "epoch:  6  loss:  2.0241897106170654\n",
      "epoch:  7  loss:  1.8996398448944092\n",
      "epoch:  8  loss:  1.7932465076446533\n",
      "epoch:  9  loss:  1.7023577690124512\n",
      "epoch:  10  loss:  1.624709963798523\n",
      "epoch:  11  loss:  1.5583690404891968\n",
      "epoch:  12  loss:  1.5016826391220093\n",
      "epoch:  13  loss:  1.4532417058944702\n",
      "epoch:  14  loss:  1.4118413925170898\n",
      "epoch:  15  loss:  1.3764532804489136\n",
      "epoch:  16  loss:  1.3461991548538208\n",
      "epoch:  17  loss:  1.3203297853469849\n",
      "epoch:  18  loss:  1.2982045412063599\n",
      "epoch:  19  loss:  1.2792768478393555\n",
      "epoch:  20  loss:  1.2630795240402222\n",
      "epoch:  21  loss:  1.249213457107544\n",
      "epoch:  22  loss:  1.2373383045196533\n",
      "epoch:  23  loss:  1.2271634340286255\n",
      "epoch:  24  loss:  1.2184405326843262\n",
      "epoch:  25  loss:  1.210957646369934\n",
      "epoch:  26  loss:  1.2045332193374634\n",
      "epoch:  27  loss:  1.199013352394104\n",
      "epoch:  28  loss:  1.1942657232284546\n",
      "epoch:  29  loss:  1.1901772022247314\n",
      "epoch:  30  loss:  1.1866519451141357\n",
      "epoch:  31  loss:  1.1836074590682983\n",
      "epoch:  32  loss:  1.180974006652832\n",
      "epoch:  33  loss:  1.1786909103393555\n",
      "epoch:  34  loss:  1.1767075061798096\n",
      "epoch:  35  loss:  1.17497980594635\n",
      "epoch:  36  loss:  1.1734704971313477\n",
      "epoch:  37  loss:  1.1721481084823608\n",
      "epoch:  38  loss:  1.1709847450256348\n",
      "epoch:  39  loss:  1.1699573993682861\n",
      "epoch:  40  loss:  1.1690466403961182\n",
      "epoch:  41  loss:  1.168234944343567\n",
      "epoch:  42  loss:  1.1675083637237549\n",
      "epoch:  43  loss:  1.166853904724121\n",
      "epoch:  44  loss:  1.1662613153457642\n",
      "epoch:  45  loss:  1.1657217741012573\n",
      "epoch:  46  loss:  1.1652275323867798\n",
      "epoch:  47  loss:  1.1647716760635376\n",
      "epoch:  48  loss:  1.164348840713501\n",
      "epoch:  49  loss:  1.1639541387557983\n",
      "epoch:  50  loss:  1.163583755493164\n",
      "epoch:  51  loss:  1.163233757019043\n",
      "epoch:  52  loss:  1.1629014015197754\n",
      "epoch:  53  loss:  1.1625841856002808\n",
      "epoch:  54  loss:  1.1622802019119263\n",
      "epoch:  55  loss:  1.1619868278503418\n",
      "epoch:  56  loss:  1.1617028713226318\n",
      "epoch:  57  loss:  1.1614272594451904\n",
      "epoch:  58  loss:  1.1611583232879639\n",
      "epoch:  59  loss:  1.1608957052230835\n",
      "epoch:  60  loss:  1.1606377363204956\n",
      "epoch:  61  loss:  1.1603845357894897\n",
      "epoch:  62  loss:  1.1601349115371704\n",
      "epoch:  63  loss:  1.1598882675170898\n",
      "epoch:  64  loss:  1.1596447229385376\n",
      "epoch:  65  loss:  1.1594038009643555\n",
      "epoch:  66  loss:  1.159164547920227\n",
      "epoch:  67  loss:  1.1589272022247314\n",
      "epoch:  68  loss:  1.1586915254592896\n",
      "epoch:  69  loss:  1.1584572792053223\n",
      "epoch:  70  loss:  1.1582239866256714\n",
      "epoch:  71  loss:  1.1579917669296265\n",
      "epoch:  72  loss:  1.1577606201171875\n",
      "epoch:  73  loss:  1.1575301885604858\n",
      "epoch:  74  loss:  1.1573004722595215\n",
      "epoch:  75  loss:  1.1570713520050049\n",
      "epoch:  76  loss:  1.1568427085876465\n",
      "epoch:  77  loss:  1.1566146612167358\n",
      "epoch:  78  loss:  1.156387209892273\n",
      "epoch:  79  loss:  1.1561598777770996\n",
      "epoch:  80  loss:  1.1559330224990845\n",
      "epoch:  81  loss:  1.1557064056396484\n",
      "epoch:  82  loss:  1.1554803848266602\n",
      "epoch:  83  loss:  1.1552544832229614\n",
      "epoch:  84  loss:  1.1550288200378418\n",
      "epoch:  85  loss:  1.1548035144805908\n",
      "epoch:  86  loss:  1.1545785665512085\n",
      "epoch:  87  loss:  1.1543536186218262\n",
      "epoch:  88  loss:  1.154128909111023\n",
      "epoch:  89  loss:  1.153904676437378\n",
      "epoch:  90  loss:  1.1536803245544434\n",
      "epoch:  91  loss:  1.153456449508667\n",
      "epoch:  92  loss:  1.153232455253601\n",
      "epoch:  93  loss:  1.1530089378356934\n",
      "epoch:  94  loss:  1.152785301208496\n",
      "epoch:  95  loss:  1.152562141418457\n",
      "epoch:  96  loss:  1.1523388624191284\n",
      "epoch:  97  loss:  1.152116060256958\n",
      "epoch:  98  loss:  1.1518933773040771\n",
      "epoch:  99  loss:  1.1516708135604858\n"
     ]
    }
   ],
   "source": [
    "num_epochs = 100\n",
    "losses_array = []\n",
    "\n",
    "for i in range(num_epochs):\n",
    "    y_pred = model.forward(x) # batch size is the whole samples\n",
    "    loss = loss_fun(y_pred,y) # y is from dataset\n",
    "    losses_array.append(loss.detach().numpy())\n",
    "    \n",
    "    optimizer.zero_grad() # this is necessary as the grad is accumulated. Will be needed for RNN\n",
    "    loss.backward()\n",
    "    optimizer.step() # updates the parameters according to SGD\n",
    "    \n",
    "    print(\"epoch: \", i, \" loss: \", loss.item())\n",
    "\n",
    "    "
   ]
  },
  {
   "cell_type": "code",
   "execution_count": 18,
   "id": "regulated-mercury",
   "metadata": {},
   "outputs": [
    {
     "data": {
      "text/plain": [
       "[<matplotlib.lines.Line2D at 0x7f0df8448ee0>]"
      ]
     },
     "execution_count": 18,
     "metadata": {},
     "output_type": "execute_result"
    },
    {
     "data": {
      "image/png": "[encoded data removed]",
      "text/plain": [
       "<Figure size 432x288 with 1 Axes>"
      ]
     },
     "metadata": {
      "needs_background": "light"
     },
     "output_type": "display_data"
    }
   ],
   "source": [
    "import numpy as np\n",
    "plt.plot(np.arange(num_epochs),losses_array)"
   ]
  },
  {
   "cell_type": "markdown",
   "id": "minor-velvet",
   "metadata": {},
   "source": [
    "## 4. Validation"
   ]
  },
  {
   "cell_type": "markdown",
   "id": "overhead-crown",
   "metadata": {},
   "source": [
    "Let's check the updated parameters"
   ]
  },
  {
   "cell_type": "code",
   "execution_count": 19,
   "id": "warming-timing",
   "metadata": {},
   "outputs": [
    {
     "data": {
      "text/plain": [
       "[Parameter containing:\n",
       " tensor([[1.1214]], requires_grad=True),\n",
       " Parameter containing:\n",
       " tensor([-0.8925], requires_grad=True)]"
      ]
     },
     "execution_count": 19,
     "metadata": {},
     "output_type": "execute_result"
    }
   ],
   "source": [
    "list(model.parameters())"
   ]
  },
  {
   "cell_type": "markdown",
   "id": "studied-strip",
   "metadata": {},
   "source": [
    "These are pretty good as the optimal parameters are $w$ = 1 and $b=0$. Anyway, let's plot the results."
   ]
  },
  {
   "cell_type": "code",
   "execution_count": 20,
   "id": "usual-luxembourg",
   "metadata": {},
   "outputs": [],
   "source": [
    "y_pred = model.forward(x)"
   ]
  },
  {
   "cell_type": "code",
   "execution_count": 21,
   "id": "general-dressing",
   "metadata": {},
   "outputs": [
    {
     "data": {
      "image/png": "[encoded data removed]",
      "text/plain": [
       "<Figure size 432x288 with 1 Axes>"
      ]
     },
     "metadata": {
      "needs_background": "light"
     },
     "output_type": "display_data"
    }
   ],
   "source": [
    "plt.plot(x,y,'o',x,y_pred.detach().numpy());"
   ]
  },
  {
   "cell_type": "markdown",
   "id": "received-arbitration",
   "metadata": {},
   "source": [
    "This is still a warm-up. We'll kick it up a notch in the next notebook."
   ]
  },
  {
   "cell_type": "code",
   "execution_count": null,
   "id": "d49aea06",
   "metadata": {},
   "outputs": [],
   "source": []
  }
 ],
 "metadata": {
  "kernelspec": {
   "display_name": "Python 3 (ipykernel)",
   "language": "python",
   "name": "python3"
  },
  "language_info": {
   "codemirror_mode": {
    "name": "ipython",
    "version": 3
   },
   "file_extension": ".py",
   "mimetype": "text/x-python",
   "name": "python",
   "nbconvert_exporter": "python",
   "pygments_lexer": "ipython3",
   "version": "3.8.0"
  }
 },
 "nbformat": 4,
 "nbformat_minor": 5
}
